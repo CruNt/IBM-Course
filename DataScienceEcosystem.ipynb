{
 "cells": [
  {
   "cell_type": "markdown",
   "id": "38b93f47-e11c-4bea-b4d7-09a4cf02b52c",
   "metadata": {},
   "source": [
    "# DataScience Tools and Ecosystem"
   ]
  },
  {
   "cell_type": "markdown",
   "id": "b7601c19-7a8b-49a8-9f95-80b258c26344",
   "metadata": {},
   "source": [
    "### In this notebook, DataScience Tools and Ecosystem are summarized"
   ]
  },
  {
   "cell_type": "markdown",
   "id": "2f3ecb47-f666-4c00-9094-941c9be910a6",
   "metadata": {},
   "source": [
    "__Objectives__\n",
    "\n",
    "* Popular languages in ds\n",
    "* commonly used libraries in ds\n",
    "* list the Open source Tools used in ds\n",
    "* Evaluating Arithmetic expressions in Python"
   ]
  },
  {
   "cell_type": "markdown",
   "id": "e3978848-8635-42a4-9f19-9c8c3d4420a4",
   "metadata": {},
   "source": [
    "#### Some of the popular languages that data Scientists use are:\n",
    "\n",
    "1. Python\n",
    "2. R\n",
    "3. Julia\n",
    "4. scala\n",
    "5. SQL"
   ]
  },
  {
   "cell_type": "markdown",
   "id": "ded5d2c0-4f14-41c5-8cd0-59a535bf5bee",
   "metadata": {},
   "source": [
    "#### Some of the commonly used libraries by Data Scientists include:\n",
    "\n",
    "1. Pandas\n",
    "2. NumPy\n",
    "3. keras\n",
    "4. NLTK\n",
    "5. Scikitlearn"
   ]
  },
  {
   "cell_type": "markdown",
   "id": "efed57e8-6011-406a-9d62-d52f01d70228",
   "metadata": {},
   "source": [
    "DataScience Tools |\n",
    "------------------|\n",
    "Apache Spark |\n",
    "Hadoop |\n",
    "TensorFlow |"
   ]
  },
  {
   "cell_type": "markdown",
   "id": "84d7c871-7267-49f4-956b-bc16044e9fb2",
   "metadata": {},
   "source": [
    "### Below are the few example of evaluating artimetic expression in Python"
   ]
  },
  {
   "cell_type": "code",
   "execution_count": 14,
   "id": "4defaa93-c133-4ffe-b166-6a9f54b124e8",
   "metadata": {},
   "outputs": [
    {
     "data": {
      "text/plain": [
       "17"
      ]
     },
     "execution_count": 14,
     "metadata": {},
     "output_type": "execute_result"
    }
   ],
   "source": [
    "# this is a simple expression to multiply and add integers\n",
    "(3*4)+5"
   ]
  },
  {
   "cell_type": "code",
   "execution_count": 16,
   "id": "dd066044-518d-40d6-a4e1-d3a9f37bf8a8",
   "metadata": {},
   "outputs": [
    {
     "data": {
      "text/plain": [
       "3.3333333333333335"
      ]
     },
     "execution_count": 16,
     "metadata": {},
     "output_type": "execute_result"
    }
   ],
   "source": [
    "# This will convert 200 minutes to hour \n",
    "200/60"
   ]
  },
  {
   "cell_type": "markdown",
   "id": "6d6a17d4-263c-47db-91e6-2664c0201258",
   "metadata": {},
   "source": [
    "## Author\n",
    "Nagul Pandian C R"
   ]
  },
  {
   "cell_type": "code",
   "execution_count": null,
   "id": "8b7f958f-c100-4525-9bac-f41e5730c983",
   "metadata": {},
   "outputs": [],
   "source": []
  }
 ],
 "metadata": {
  "kernelspec": {
   "display_name": "Python 3 (ipykernel)",
   "language": "python",
   "name": "python3"
  },
  "language_info": {
   "codemirror_mode": {
    "name": "ipython",
    "version": 3
   },
   "file_extension": ".py",
   "mimetype": "text/x-python",
   "name": "python",
   "nbconvert_exporter": "python",
   "pygments_lexer": "ipython3",
   "version": "3.11.7"
  }
 },
 "nbformat": 4,
 "nbformat_minor": 5
}
